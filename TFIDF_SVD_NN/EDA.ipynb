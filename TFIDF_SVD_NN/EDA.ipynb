{
 "cells": [
  {
   "cell_type": "code",
   "execution_count": 1,
   "id": "3a4f2ca0",
   "metadata": {},
   "outputs": [],
   "source": [
    "import pandas as pd\n",
    "from pathlib import Path\n",
    "import numpy as np\n",
    "import re"
   ]
  },
  {
   "cell_type": "code",
   "execution_count": 2,
   "id": "fe5f3061",
   "metadata": {},
   "outputs": [],
   "source": [
    "#Loading data\n",
    "DATA_PATH = Path(r'C:\\Users\\ftsky\\PycharmProjects\\COMP5434_project\\data_source')\n",
    "OUTPUT_PATH = Path(r'C:\\Users\\ftsky\\PycharmProjects\\COMP5434_project\\output')\n",
    "\n",
    "train = pd.read_csv(DATA_PATH / 'training.csv')\n",
    "valid = pd.read_csv(DATA_PATH / 'validation.csv')\n",
    "test = pd.read_csv(DATA_PATH / 'testing.csv')\n"
   ]
  },
  {
   "cell_type": "code",
   "execution_count": 3,
   "id": "a539d93c",
   "metadata": {},
   "outputs": [
    {
     "name": "stdout",
     "output_type": "stream",
     "text": [
      "<class 'pandas.core.frame.DataFrame'>\n",
      "RangeIndex: 6999 entries, 0 to 6998\n",
      "Data columns (total 8 columns):\n",
      " #   Column         Non-Null Count  Dtype \n",
      "---  ------         --------------  ----- \n",
      " 0   recordId       6999 non-null   int64 \n",
      " 1   drugName       6999 non-null   object\n",
      " 2   condition      6965 non-null   object\n",
      " 3   reviewComment  6999 non-null   object\n",
      " 4   date           6999 non-null   object\n",
      " 5   usefulCount    6999 non-null   int64 \n",
      " 6   sideEffects    6999 non-null   object\n",
      " 7   rating         6999 non-null   int64 \n",
      "dtypes: int64(3), object(5)\n",
      "memory usage: 437.6+ KB\n"
     ]
    }
   ],
   "source": [
    "#Found there are 34 null value in condition column\n",
    "train.info()"
   ]
  },
  {
   "cell_type": "code",
   "execution_count": 4,
   "id": "61bd0c49",
   "metadata": {},
   "outputs": [
    {
     "data": {
      "text/html": [
       "<div>\n",
       "<style scoped>\n",
       "    .dataframe tbody tr th:only-of-type {\n",
       "        vertical-align: middle;\n",
       "    }\n",
       "\n",
       "    .dataframe tbody tr th {\n",
       "        vertical-align: top;\n",
       "    }\n",
       "\n",
       "    .dataframe thead th {\n",
       "        text-align: right;\n",
       "    }\n",
       "</style>\n",
       "<table border=\"1\" class=\"dataframe\">\n",
       "  <thead>\n",
       "    <tr style=\"text-align: right;\">\n",
       "      <th></th>\n",
       "      <th>recordId</th>\n",
       "      <th>usefulCount</th>\n",
       "      <th>rating</th>\n",
       "    </tr>\n",
       "  </thead>\n",
       "  <tbody>\n",
       "    <tr>\n",
       "      <th>count</th>\n",
       "      <td>6999.000000</td>\n",
       "      <td>6999.000000</td>\n",
       "      <td>6999.000000</td>\n",
       "    </tr>\n",
       "    <tr>\n",
       "      <th>mean</th>\n",
       "      <td>117818.948564</td>\n",
       "      <td>28.189027</td>\n",
       "      <td>3.712102</td>\n",
       "    </tr>\n",
       "    <tr>\n",
       "      <th>std</th>\n",
       "      <td>66920.098771</td>\n",
       "      <td>40.007725</td>\n",
       "      <td>1.556816</td>\n",
       "    </tr>\n",
       "    <tr>\n",
       "      <th>min</th>\n",
       "      <td>6.000000</td>\n",
       "      <td>0.000000</td>\n",
       "      <td>1.000000</td>\n",
       "    </tr>\n",
       "    <tr>\n",
       "      <th>25%</th>\n",
       "      <td>59038.000000</td>\n",
       "      <td>6.000000</td>\n",
       "      <td>2.000000</td>\n",
       "    </tr>\n",
       "    <tr>\n",
       "      <th>50%</th>\n",
       "      <td>118973.000000</td>\n",
       "      <td>16.000000</td>\n",
       "      <td>4.000000</td>\n",
       "    </tr>\n",
       "    <tr>\n",
       "      <th>75%</th>\n",
       "      <td>175369.000000</td>\n",
       "      <td>35.000000</td>\n",
       "      <td>5.000000</td>\n",
       "    </tr>\n",
       "    <tr>\n",
       "      <th>max</th>\n",
       "      <td>232143.000000</td>\n",
       "      <td>949.000000</td>\n",
       "      <td>5.000000</td>\n",
       "    </tr>\n",
       "  </tbody>\n",
       "</table>\n",
       "</div>"
      ],
      "text/plain": [
       "            recordId  usefulCount       rating\n",
       "count    6999.000000  6999.000000  6999.000000\n",
       "mean   117818.948564    28.189027     3.712102\n",
       "std     66920.098771    40.007725     1.556816\n",
       "min         6.000000     0.000000     1.000000\n",
       "25%     59038.000000     6.000000     2.000000\n",
       "50%    118973.000000    16.000000     4.000000\n",
       "75%    175369.000000    35.000000     5.000000\n",
       "max    232143.000000   949.000000     5.000000"
      ]
     },
     "execution_count": 4,
     "metadata": {},
     "output_type": "execute_result"
    }
   ],
   "source": [
    "#The range of usefulCount is from 0 to 949\n",
    "train.describe()"
   ]
  },
  {
   "cell_type": "code",
   "execution_count": 5,
   "id": "6cbb0d30",
   "metadata": {},
   "outputs": [
    {
     "name": "stdout",
     "output_type": "stream",
     "text": [
      "Is the \"recordId\" unique? True\n",
      "Number of labels for rating:5\n"
     ]
    }
   ],
   "source": [
    "print(f'Is the \"recordId\" unique? {len(train) == train.recordId.nunique()}')\n",
    "print(f'Number of labels for rating:{train.rating.nunique()}')"
   ]
  },
  {
   "cell_type": "code",
   "execution_count": 6,
   "id": "e6727270",
   "metadata": {},
   "outputs": [
    {
     "data": {
      "text/plain": [
       "5    0.489356\n",
       "1    0.182312\n",
       "4    0.170882\n",
       "3    0.084584\n",
       "2    0.072868\n",
       "Name: rating, dtype: float64"
      ]
     },
     "execution_count": 6,
     "metadata": {},
     "output_type": "execute_result"
    }
   ],
   "source": [
    "#Class 2 and 3 has lower proportion\n",
    "train.rating.value_counts(normalize=True)"
   ]
  },
  {
   "cell_type": "code",
   "execution_count": 7,
   "id": "26c20ae7",
   "metadata": {},
   "outputs": [],
   "source": [
    "temp = train.copy()"
   ]
  },
  {
   "cell_type": "code",
   "execution_count": 8,
   "id": "ef9a263f",
   "metadata": {},
   "outputs": [
    {
     "name": "stdout",
     "output_type": "stream",
     "text": [
      "0        mirtazapine\n",
      "1         mesalamine\n",
      "2            bactrim\n",
      "3           contrave\n",
      "4    cyclafem 1 / 35\n",
      "Name: drugName, dtype: object\n",
      "--------------------------------------------------\n",
      "levonorgestrel                        174\n",
      "etonogestrel                          145\n",
      "ethinyl estradiol / norethindrone     102\n",
      "ethinyl estradiol / levonorgestrel     86\n",
      "nexplanon                              82\n",
      "                                     ... \n",
      "patanase                                1\n",
      "ibrance                                 1\n",
      "levalbuterol                            1\n",
      "eptifibatide                            1\n",
      "telaprevir                              1\n",
      "Name: drugName, Length: 1300, dtype: int64\n",
      "--------------------------------------------------\n",
      "Number of drug unseen in validation set: 105\n"
     ]
    }
   ],
   "source": [
    "#Exploring 'drugName'\n",
    "temp['drugName'] = train['drugName'].apply(lambda x: x.lower().strip())\n",
    "print(temp.drugName.head(5))\n",
    "print('-'*50)\n",
    "print(temp.drugName.value_counts())\n",
    "print('-'*50)\n",
    "temp['valid_drugName'] = valid['drugName'].apply(lambda x: x.lower().strip())\n",
    "print(f\"Number of drug unseen in validation set: {len(set(temp['valid_drugName'])-set(temp['drugName']))}\")"
   ]
  },
  {
   "cell_type": "code",
   "execution_count": 9,
   "id": "6f86c6fd",
   "metadata": {},
   "outputs": [
    {
     "name": "stdout",
     "output_type": "stream",
     "text": [
      "0                      Depression\n",
      "1    Crohn's Disease, Maintenance\n",
      "2         Urinary Tract Infection\n",
      "3                     Weight Loss\n",
      "4                   Birth Control\n",
      "Name: condition, dtype: object\n",
      "--------------------------------------------------\n",
      "Number of rows that condition value are number: 144\n",
      "35                                Diabetes, Type 2\n",
      "66                                Diabetes, Type 1\n",
      "96                                Diabetes, Type 1\n",
      "136    12</span> users found this comment helpful.\n",
      "137                               Diabetes, Type 2\n",
      "Name: condition, dtype: object\n",
      "--------------------------------------------------\n"
     ]
    }
   ],
   "source": [
    "#Exploring 'condition'\n",
    "print(temp.condition.head(5))\n",
    "print('-'*50)\n",
    "\n",
    "#As the following code cannot not be execute, and the error shows there are floating point number inside\n",
    "#temp.condition = train.condition.apply(lambda x: x.lower().strip())\n",
    "\n",
    "temp['check_cond'] = temp.condition.apply(lambda x: bool(re.findall(r'\\d',str(x))))\n",
    "print(f'Number of rows that condition value are number: {temp.check_cond.sum()}')\n",
    "print(temp[temp['check_cond']==True]['condition'].head(5))\n",
    "print('-'*50)\n",
    "\n",
    "#Here shows some wrong information, clearly not a condition value\n",
    "#This needed to be further remove"
   ]
  },
  {
   "cell_type": "code",
   "execution_count": 10,
   "id": "d5c6c085",
   "metadata": {},
   "outputs": [
    {
     "name": "stdout",
     "output_type": "stream",
     "text": [
      "35     Diabetes, Type 2\n",
      "66     Diabetes, Type 1\n",
      "96     Diabetes, Type 1\n",
      "136             unknown\n",
      "137    Diabetes, Type 2\n",
      "Name: condition, dtype: object\n",
      "Number of null value in condition: 0\n",
      "--------------------------------------------------\n",
      "Number of condition unseen in validation set: 204\n",
      "--------------------------------------------------\n",
      "Birth Control                       0.180740\n",
      "Depression                          0.061009\n",
      "Pain                                0.038577\n",
      "Anxiety                             0.035434\n",
      "Acne                                0.033433\n",
      "                                      ...   \n",
      "Precocious Puberty                  0.000143\n",
      "Diaper Rash                         0.000143\n",
      "Juvenile Rheumatoid Arthritis       0.000143\n",
      "cal Segmental Glomerulosclerosis    0.000143\n",
      "Diagnosis and Investigation         0.000143\n",
      "Name: condition, Length: 393, dtype: float64\n",
      "--------------------------------------------------\n"
     ]
    }
   ],
   "source": [
    "#Exploring 'condition' cont.\n",
    "\n",
    "#Let's impute all the wrong information and null values to unknown first and continue the exploration\n",
    "temp['condition'] = temp['condition'].apply(\n",
    "    lambda x: re.sub(r'(\\d*<\\/span>\\s*users\\s*found\\s*this\\s*comment\\s*helpful.)', 'unknown', str(x)))\n",
    "temp['condition'] = temp['condition'].fillna('unknown')\n",
    "#check if they are imputed\n",
    "print(temp[temp['check_cond']==True]['condition'].head(5))\n",
    "print(f'Number of null value in condition: {temp.condition.isnull().sum()}')\n",
    "print('-'*50)\n",
    "temp['valid_cond'] = valid['condition'].apply(lambda x: str(x).lower().strip())\n",
    "print(f\"Number of condition unseen in validation set: {len(set(temp['valid_cond'])-set(temp['condition']))}\")\n",
    "print('-'*50)\n",
    "print(temp.condition.value_counts(normalize=True))\n",
    "print('-'*50)\n",
    "# About 18% of the conditon is Birth Control"
   ]
  },
  {
   "cell_type": "code",
   "execution_count": 11,
   "id": "eb6abe07",
   "metadata": {},
   "outputs": [
    {
     "name": "stdout",
     "output_type": "stream",
     "text": [
      "0     \"I&#039;ve tried a few antidepressants over th...\n",
      "1     \"My son has Crohn&#039;s disease and has done ...\n",
      "2                         \"Quick reduction of symptoms\"\n",
      "3     \"Contrave combines drugs that were used for al...\n",
      "4     \"I have been on this birth control for one cyc...\n",
      "5     \"4 days in on first 2 weeks.  Using on arms an...\n",
      "6     \"I&#039;ve had the copper coil for about 3 mon...\n",
      "7     \"This has been great for me. I&#039;ve been on...\n",
      "8     \"Ive been on Methadone for over ten years and ...\n",
      "9     \"I was on this pill for almost two years. It d...\n",
      "10    \"Holy Hell is exactly how I feel. I had been t...\n",
      "11    \"Honestly its day one on the 3 day treatment. ...\n",
      "12    \"This is a waste of money.  Did not curb my ap...\n",
      "13                   \"No problems, watch what you eat.\"\n",
      "14    \"Ditto on rebound sleepless when discontinued....\n",
      "15    \"A doctor in the ER prescribed me 200 mg of Pr...\n",
      "16    \"I smoked for 50+ years.  Took it for one week...\n",
      "17    \"So I was on Ginanvi for about 3 months before...\n",
      "18    \"This medication helped me  sleep, but eventua...\n",
      "19    \"After just 1 dose of this ciprofloxacn, I fel...\n",
      "Name: reviewComment, dtype: object\n"
     ]
    }
   ],
   "source": [
    "#Exploring 'reviewComment'\n",
    "print(temp.reviewComment.head(20))\n",
    "#There are many non word characters can be seen"
   ]
  },
  {
   "cell_type": "code",
   "execution_count": 12,
   "id": "41d8d280",
   "metadata": {},
   "outputs": [
    {
     "name": "stdout",
     "output_type": "stream",
     "text": [
      "Is there any duplicated review comment? True\n",
      "      recordId           drugName            condition  \\\n",
      "4774    209876           vesicare    Overactive Bladde   \n",
      "4067     18823        solifenacin    Overactive Bladde   \n",
      "5356    148416             mirena        Birth Control   \n",
      "756     142562     levonorgestrel        Birth Control   \n",
      "6004     59012  divalproex sodium  Migraine Prevention   \n",
      "\n",
      "                                          reviewComment              date  \\\n",
      "4774  \"After 5 days taking vesicare I feel like I ha...  November 6, 2016   \n",
      "4067  \"After 5 days taking vesicare I feel like I ha...  November 6, 2016   \n",
      "5356  \"After having my first child, I decided to try...   August 27, 2017   \n",
      "756   \"After having my first child, I decided to try...   August 27, 2017   \n",
      "6004  \"After trying Topamax for months with no relie...     March 7, 2008   \n",
      "\n",
      "      usefulCount                    sideEffects  rating valid_drugName  \\\n",
      "4774           22          Moderate Side Effects       1            NaN   \n",
      "4067           22              Mild Side Effects       1            NaN   \n",
      "5356           12              Mild Side Effects       4            NaN   \n",
      "756            12  Extremely Severe Side Effects       4        pristiq   \n",
      "6004           36          Moderate Side Effects       4            NaN   \n",
      "\n",
      "      check_cond  valid_cond  \n",
      "4774       False         NaN  \n",
      "4067       False         NaN  \n",
      "5356       False         NaN  \n",
      "756        False  depression  \n",
      "6004       False         NaN  \n"
     ]
    }
   ],
   "source": [
    "#Exploring 'reviewComment' cont.\n",
    "print(f'Is there any duplicated review comment? {bool(len(temp[temp.duplicated([\"reviewComment\"],keep=False)]))}')\n",
    "if bool(len(temp[temp.duplicated([\"reviewComment\"],keep=False)])):\n",
    "    checking_review = temp[temp.duplicated([\"reviewComment\"],keep=False)].sort_values('reviewComment')\n",
    "    print(checking_review.head(5))\n",
    "#The duplicated comment seems to have the same date and the same condition but different drugs\n",
    "#May assume that they are one treatment with multiple drugs consuming."
   ]
  },
  {
   "cell_type": "code",
   "execution_count": 13,
   "id": "b65594c9",
   "metadata": {},
   "outputs": [
    {
     "name": "stdout",
     "output_type": "stream",
     "text": [
      "204\n",
      "194\n",
      "198\n",
      "----------------------------------------------------------------------------------------------------\n",
      "      recordId    drugName                 condition reviewComment  \\\n",
      "509     229124   tadalafil         Not Listed / Othe       \"Good.\"   \n",
      "3107    184674  aclidinium                      COPD       \"Good.\"   \n",
      "498      30138    klonopin           Bipolar Disorde      \"Great.\"   \n",
      "4833     77276  lorcaserin               Weight Loss      \"Great.\"   \n",
      "1215    140390   sterapred  Conjunctivitis, Allergic   \"Very good\"   \n",
      "2395    176650   lorazepam                   Anxiety   \"Very good\"   \n",
      "\n",
      "                    date  usefulCount            sideEffects  rating  \\\n",
      "509    November 23, 2011            0  Moderate Side Effects       5   \n",
      "3107       June 11, 2013           27      Mild Side Effects       4   \n",
      "498   September 27, 2013           23        No Side Effects       5   \n",
      "4833     August 22, 2013           52    Severe Side Effects       5   \n",
      "1215      August 1, 2012            6      Mild Side Effects       5   \n",
      "2395    January 24, 2010           12        No Side Effects       4   \n",
      "\n",
      "                       valid_drugName  check_cond           valid_cond  \n",
      "509                          lidoderm       False                 pain  \n",
      "3107                              NaN       False                  NaN  \n",
      "498   sulfamethoxazole / trimethoprim       False  bacterial infection  \n",
      "4833                              NaN       False                  NaN  \n",
      "1215                              NaN       False                  NaN  \n",
      "2395                              NaN       False                  NaN  \n",
      "----------------------------------------------------------------------------------------------------\n",
      "      recordId                           drugName                condition  \\\n",
      "4105    132944                     loestrin 24 fe                  unknown   \n",
      "4487     73644  ethinyl estradiol / norethindrone                      nan   \n",
      "2359     53058                        bevacizumab       Glioblastoma Multi   \n",
      "6151     36892                            avastin  Glioblastoma Multiforme   \n",
      "\n",
      "                                          reviewComment              date  \\\n",
      "4105  \"I was on Loestrin 24 Fe for about 3 months. I...    March 22, 2013   \n",
      "4487  \"I was on Loestrin 24 Fe for about 3 months. I...    March 22, 2013   \n",
      "2359  \"diagnosed with brain cancer four years ago at...  December 3, 2013   \n",
      "6151  \"diagnosed with brain cancer four years ago at...  December 3, 2013   \n",
      "\n",
      "      usefulCount          sideEffects  rating valid_drugName  check_cond  \\\n",
      "4105            8      No Side Effects       4            NaN        True   \n",
      "4487            8      No Side Effects       4            NaN       False   \n",
      "2359           56    Mild Side Effects       5            NaN       False   \n",
      "6151           56  Severe Side Effects       5            NaN       False   \n",
      "\n",
      "     valid_cond  \n",
      "4105        NaN  \n",
      "4487        NaN  \n",
      "2359        NaN  \n",
      "6151        NaN  \n",
      "----------------------------------------------------------------------------------------------------\n"
     ]
    }
   ],
   "source": [
    "#Exploring 'reviewComment' cont.\n",
    "\n",
    "#To check if the assumption is correct\n",
    "print(len(temp[temp.duplicated([\"reviewComment\"],keep=False)]))\n",
    "print(len(temp[temp.duplicated(['reviewComment','condition','date'],keep=False)]))\n",
    "print(len(temp[temp.duplicated(['reviewComment','date'],keep=False)]))\n",
    "print('-'*100)\n",
    "\n",
    "#There 6 of them has the same reviewComment and different date\n",
    "#The reviewComment is very common, the assumption can still be correct\n",
    "checking_id = set(temp[temp.duplicated([\"reviewComment\"],keep=False)]['recordId']) - set(temp[temp.duplicated(['reviewComment','date'],keep=False)]['recordId'])\n",
    "print(temp[temp['recordId'].isin(checking_id)].sort_values('reviewComment'))\n",
    "print('-'*100)\n",
    "\n",
    "#Except the 6 records above, there are 4 more records have different condition and different date\n",
    "checking_id = set(temp[temp.duplicated(['reviewComment','date'],keep=False)]['recordId']) - set(temp[temp.duplicated(['reviewComment','condition','date'],keep=False)]['recordId']) \n",
    "print(temp[temp['recordId'].isin(checking_id)].sort_values('reviewComment'))\n",
    "print('-'*100)\n",
    "#Except for the null values, there are two records has the same date, reviewComment and with a pair of very close condition value\n",
    "#If the assumption is correct, the 'Glioblastoma Multi' can be replaced by 'Glioblastoma Multiforme'"
   ]
  },
  {
   "cell_type": "code",
   "execution_count": 14,
   "id": "adcf9403",
   "metadata": {
    "scrolled": true
   },
   "outputs": [
    {
     "name": "stdout",
     "output_type": "stream",
     "text": [
      "The unique value of sideEffects:\n",
      "['Mild Side Effects' 'Severe Side Effects' 'No Side Effects'\n",
      " 'Extremely Severe Side Effects' 'Moderate Side Effects']\n",
      "\n",
      "Is there more than 5 categories? False\n"
     ]
    }
   ],
   "source": [
    "#Exploring 'sideEffects'\n",
    "print('The unique value of sideEffects:')\n",
    "print(temp.sideEffects.unique())\n",
    "print(f'\\nIs there more than 5 categories? {valid.sideEffects.unique() not in temp.sideEffects.unique()}')\n",
    "# This shows they are ordinal categoical variables"
   ]
  },
  {
   "cell_type": "code",
   "execution_count": 15,
   "id": "98512f7f",
   "metadata": {},
   "outputs": [
    {
     "data": {
      "text/html": [
       "<div>\n",
       "<style scoped>\n",
       "    .dataframe tbody tr th:only-of-type {\n",
       "        vertical-align: middle;\n",
       "    }\n",
       "\n",
       "    .dataframe tbody tr th {\n",
       "        vertical-align: top;\n",
       "    }\n",
       "\n",
       "    .dataframe thead th {\n",
       "        text-align: right;\n",
       "    }\n",
       "</style>\n",
       "<table border=\"1\" class=\"dataframe\">\n",
       "  <thead>\n",
       "    <tr style=\"text-align: right;\">\n",
       "      <th></th>\n",
       "      <th>usefulCount</th>\n",
       "      <th>rating</th>\n",
       "      <th>side_Effect</th>\n",
       "    </tr>\n",
       "  </thead>\n",
       "  <tbody>\n",
       "    <tr>\n",
       "      <th>usefulCount</th>\n",
       "      <td>1.000000</td>\n",
       "      <td>0.217279</td>\n",
       "      <td>-0.015661</td>\n",
       "    </tr>\n",
       "    <tr>\n",
       "      <th>rating</th>\n",
       "      <td>0.217279</td>\n",
       "      <td>1.000000</td>\n",
       "      <td>-0.004918</td>\n",
       "    </tr>\n",
       "    <tr>\n",
       "      <th>side_Effect</th>\n",
       "      <td>-0.015661</td>\n",
       "      <td>-0.004918</td>\n",
       "      <td>1.000000</td>\n",
       "    </tr>\n",
       "  </tbody>\n",
       "</table>\n",
       "</div>"
      ],
      "text/plain": [
       "             usefulCount    rating  side_Effect\n",
       "usefulCount     1.000000  0.217279    -0.015661\n",
       "rating          0.217279  1.000000    -0.004918\n",
       "side_Effect    -0.015661 -0.004918     1.000000"
      ]
     },
     "execution_count": 15,
     "metadata": {},
     "output_type": "execute_result"
    }
   ],
   "source": [
    "#Exploring 'sideEffects' cont.\n",
    "\n",
    "#As the sideEffects is ordinal, it can be replaced by numbers and check it correlation between the rating\n",
    "side_Effect_dict = {'No Side Effects':1,'Mild Side Effects':2,'Moderate Side Effects':3,'Severe Side Effects':4,'Extremely Severe Side Effects':5}\n",
    "temp['side_Effect'] = temp['sideEffects'].apply(lambda x: side_Effect_dict[x])\n",
    "\n",
    "#Compute correlation matrix for all the numeric features\n",
    "temp[['usefulCount','rating','side_Effect']].corr()\n",
    "#As shown, the sideEffect has very weak negative correlation with rating, nearly zero.\n",
    "#Meaning the more severe the side effect, the lower rating is not True, vice versa\n",
    "#The matrix also shows some correlation between usefulCount and rating, which is 0.2\n"
   ]
  },
  {
   "cell_type": "code",
   "execution_count": 16,
   "id": "1e5d1cda",
   "metadata": {},
   "outputs": [],
   "source": [
    "import matplotlib.pyplot as plt"
   ]
  },
  {
   "cell_type": "code",
   "execution_count": 17,
   "id": "f84297a3",
   "metadata": {},
   "outputs": [
    {
     "data": {
      "text/plain": [
       "<AxesSubplot:title={'center':'side_Effect vs Date'}, xlabel='Date', ylabel='side_Effects'>"
      ]
     },
     "execution_count": 17,
     "metadata": {},
     "output_type": "execute_result"
    },
    {
     "data": {
      "image/png": "[encoded data removed]",
      "text/plain": [
       "<Figure size 432x288 with 1 Axes>"
      ]
     },
     "metadata": {
      "needs_background": "light"
     },
     "output_type": "display_data"
    },
    {
     "data": {
      "image/png": "[encoded data removed]",
      "text/plain": [
       "<Figure size 432x288 with 1 Axes>"
      ]
     },
     "metadata": {
      "needs_background": "light"
     },
     "output_type": "display_data"
    },
    {
     "data": {
      "image/png": "[encoded data removed]",
      "text/plain": [
       "<Figure size 432x288 with 1 Axes>"
      ]
     },
     "metadata": {
      "needs_background": "light"
     },
     "output_type": "display_data"
    }
   ],
   "source": [
    "#Exploring the 'date'\n",
    "#Exploring if the features related to time domain.\n",
    "\n",
    "temp['date'] = temp['date'].apply(pd.to_datetime)\n",
    "\n",
    "#The graph show there are outlier in usefulCount\n",
    "temp[['date','usefulCount']].groupby('date').agg(usefulCount=('usefulCount','mean')).plot(title='usefulCount vs Date',xlabel='Date',ylabel='usefulCount')\n",
    "#The rating between 2008 and 2009 are nearly all high rating\n",
    "temp[['date','rating']].groupby('date').agg(rating=('rating','mean')).plot(title='rating vs Date',xlabel='Date',ylabel='rating')\n",
    "#Very seldom has severe side effects\n",
    "temp[['date','side_Effect']].groupby('date').agg(rating=('side_Effect','mean')).plot(title='side_Effect vs Date',xlabel='Date',ylabel='side_Effects')\n"
   ]
  },
  {
   "cell_type": "code",
   "execution_count": null,
   "id": "bc8fd097",
   "metadata": {},
   "outputs": [],
   "source": []
  }
 ],
 "metadata": {
  "kernelspec": {
   "display_name": "venv_38",
   "language": "python",
   "name": "venv_38"
  },
  "language_info": {
   "codemirror_mode": {
    "name": "ipython",
    "version": 3
   },
   "file_extension": ".py",
   "mimetype": "text/x-python",
   "name": "python",
   "nbconvert_exporter": "python",
   "pygments_lexer": "ipython3",
   "version": "3.8.11"
  }
 },
 "nbformat": 4,
 "nbformat_minor": 5
}
